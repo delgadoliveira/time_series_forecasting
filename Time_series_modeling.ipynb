{
 "cells": [
  {
   "cell_type": "markdown",
   "metadata": {},
   "source": [
    "https://medium.com/@abhikjha/predicting-sensex-48f4afb900b5\n",
    "https://machinelearningmastery.com/autoregression-models-time-series-forecasting-python/"
   ]
  },
  {
   "cell_type": "code",
   "execution_count": 1,
   "metadata": {},
   "outputs": [],
   "source": [
    "import numpy as np\n",
    "import pandas as pd\n",
    "import seaborn as sns\n",
    "\n",
    "\n",
    "import matplotlib.pyplot as plt\n",
    "from pandas.plotting import lag_plot\n",
    "\n"
   ]
  },
  {
   "cell_type": "code",
   "execution_count": null,
   "metadata": {},
   "outputs": [],
   "source": [
    "df = pd.read_excel(\"Data\\Events_2014_2019.xlsx\")"
   ]
  },
  {
   "cell_type": "markdown",
   "metadata": {},
   "source": [
    "### Some descriptive statistics"
   ]
  },
  {
   "cell_type": "code",
   "execution_count": null,
   "metadata": {},
   "outputs": [],
   "source": [
    "df['ANO'] = df['DATA FATO'].dt.year\n",
    "df['MES'] = df['DATA FATO'].dt.month\n",
    "df['FATO'] = df['FATO'].apply(lambda x: 'Roubo' if x == \"ROUBO DE VEICULO\" else ('Furto' if x == 'FURTO DE VEICULO' else x))\n",
    "df['LOCAL FATO'] = df['LOCAL FATO'].apply(lambda x: 'PORTO ALEGRE' if x == \"PORTO ALEGRE RS\" else x)\n",
    "\n",
    "dfTemp = df[['DATA FATO','ANO','MES','FATO']].groupby(['ANO', 'MES','FATO']).agg({'DATA FATO': 'count'})\n",
    "\n",
    "dfTemp = dfTemp.reset_index().set_index(['ANO','MES'])\n",
    "display(dfTemp.head())\n",
    "dfTemp[dfTemp['FATO']=='Furto'].plot(figsize=(10,5), grid=True)\n",
    "dfTemp[dfTemp['FATO']=='Roubo'].plot(figsize=(10,5), grid=True)"
   ]
  },
  {
   "cell_type": "code",
   "execution_count": null,
   "metadata": {},
   "outputs": [],
   "source": [
    "df_roubo = df[df['FATO'] == 'Roubo']\n",
    "df_roubo = df_roubo[['DATA FATO', 'FATO']].groupby('DATA FATO').count().reset_index().rename(columns={'DATA FATO': 'DATE','FATO': 'OCCURRENCE'})"
   ]
  },
  {
   "cell_type": "markdown",
   "metadata": {},
   "source": [
    "### Datetime feature engineering"
   ]
  },
  {
   "cell_type": "code",
   "execution_count": null,
   "metadata": {},
   "outputs": [],
   "source": [
    "df_roubo['year'] = df_roubo['DATE'].map(lambda x: x.year)\n",
    "df_roubo['month'] = df_roubo['DATE'].map(lambda x: x.month)\n",
    "df_roubo['day_week'] = df_roubo['DATE'].map(lambda x: x.dayofweek)\n",
    "df_roubo['quarter'] = df_roubo['DATE'].map(lambda x: x.quarter)\n",
    "df_roubo['week'] = df_roubo['DATE'].map(lambda x: x.week)\n",
    "df_roubo['quarter_start'] = df_roubo['DATE'].map(lambda x: x.is_quarter_start)\n",
    "df_roubo['quarter_end'] = df_roubo['DATE'].map(lambda x: x.is_quarter_end)\n",
    "df_roubo['month_start'] = df_roubo['DATE'].map(lambda x: x.is_month_start)\n",
    "df_roubo['month_end'] = df_roubo['DATE'].map(lambda x: x.is_month_end)\n",
    "df_roubo['year_start'] = df_roubo['DATE'].map(lambda x: x.is_year_start)\n",
    "df_roubo['year_end'] = df_roubo['DATE'].map(lambda x: x.is_year_end)\n",
    "df_roubo['week_year'] = df_roubo['DATE'].map(lambda x: x.weekofyear)\n",
    "df_roubo['day_month'] = df_roubo['DATE'].map(lambda x: x.daysinmonth)\n",
    "\n",
    "df_roubo['quarter_start'] = df_roubo['quarter_start'].astype(int)\n",
    "df_roubo['quarter_end'] = df_roubo['quarter_end'].astype(int)\n",
    "df_roubo['month_start'] = df_roubo['month_start'].astype(int)\n",
    "df_roubo['month_end'] = df_roubo['month_end'].astype(int)\n",
    "df_roubo['year_start'] = df_roubo['year_start'].astype(int)\n",
    "df_roubo['year_end'] = df_roubo['year_end'].astype(int)\n",
    "\n",
    "#Check if it is weekday or weekend\n",
    "df_roubo['weekend'] = df_roubo['day_week'].map(lambda x: 0 if x in list(range(0,5)) else 1)\n",
    "\n",
    "#Check if it is second semester or not\n",
    "df_roubo['half_year'] = df_roubo['month'].map(lambda x: 1 if x in list(range(7,13)) else 0)"
   ]
  },
  {
   "cell_type": "code",
   "execution_count": null,
   "metadata": {},
   "outputs": [],
   "source": [
    "df_roubo.head()"
   ]
  },
  {
   "cell_type": "markdown",
   "metadata": {},
   "source": [
    "### Occurrences by winter and summer"
   ]
  },
  {
   "cell_type": "code",
   "execution_count": null,
   "metadata": {},
   "outputs": [],
   "source": [
    "dfTemp = df_roubo[['month','half_year','OCCURRENCE']].groupby(['month','half_year']).agg({'OCCURRENCE':['mean','max','min']}).reset_index()\n",
    "dfTemp.columns = dfTemp.columns.map('_'.join)\n",
    "\n",
    "f, axes = plt.subplots(3, 1, figsize=(15, 15))\n",
    "sns.lineplot(x='month_', y='OCCURRENCE_mean', hue='half_year_', data=dfTemp,  ax=axes[0]);\n",
    "axes[0].grid()\n",
    "sns.lineplot(x='month_', y='OCCURRENCE_max', hue='half_year_', data=dfTemp,  ax=axes[1])\n",
    "axes[1].grid()\n",
    "sns.lineplot(x='month_', y='OCCURRENCE_min', hue='half_year_', data=dfTemp,  ax=axes[2])\n",
    "axes[2].grid();\n"
   ]
  },
  {
   "cell_type": "markdown",
   "metadata": {},
   "source": [
    "### Average number of occurrences by days of week"
   ]
  },
  {
   "cell_type": "code",
   "execution_count": null,
   "metadata": {},
   "outputs": [],
   "source": [
    "dfTemp = df_roubo[['day_week','OCCURRENCE']].groupby(['day_week']).agg({'OCCURRENCE':['mean','max','min']}).reset_index()\n",
    "dfTemp.columns = dfTemp.columns.map('_'.join)\n",
    "\n",
    "f, axes = plt.subplots(3, 1, figsize=(15, 15))\n",
    "sns.lineplot(x='day_week_', y='OCCURRENCE_mean', data=dfTemp,  ax=axes[0]);\n",
    "axes[0].grid()\n",
    "sns.lineplot(x='day_week_', y='OCCURRENCE_max',  data=dfTemp,  ax=axes[1])\n",
    "axes[1].grid()\n",
    "sns.lineplot(x='day_week_', y='OCCURRENCE_min',  data=dfTemp,  ax=axes[2])\n",
    "axes[2].grid();"
   ]
  },
  {
   "cell_type": "code",
   "execution_count": null,
   "metadata": {},
   "outputs": [],
   "source": [
    "dfTemp = df_roubo[['year','half_year','OCCURRENCE']]\n",
    "\n",
    "f, axes = plt.subplots(figsize=(15, 10))\n",
    "sns.boxplot(x='year', y='OCCURRENCE', data=dfTemp, hue='half_year', ax=axes);\n"
   ]
  },
  {
   "cell_type": "code",
   "execution_count": null,
   "metadata": {},
   "outputs": [],
   "source": [
    "dfTemp = df_roubo[['year','weekend','OCCURRENCE']]\n",
    "\n",
    "f, axes = plt.subplots(figsize=(15, 10))\n",
    "sns.boxplot(x='year', y='OCCURRENCE', data=dfTemp, hue='weekend', ax=axes);"
   ]
  },
  {
   "cell_type": "markdown",
   "metadata": {},
   "source": [
    "### Autocorrelation Analysis"
   ]
  },
  {
   "cell_type": "code",
   "execution_count": null,
   "metadata": {},
   "outputs": [],
   "source": [
    "dfTemp=df_roubo[['DATE','OCCURRENCE']].set_index('DATE')\n",
    "fig, ax = plt.subplots(figsize=(20, 10))\n",
    "lag_plot(dfTemp, ax=ax)\n",
    "plt.show()"
   ]
  },
  {
   "cell_type": "code",
   "execution_count": null,
   "metadata": {},
   "outputs": [],
   "source": []
  }
 ],
 "metadata": {
  "kernelspec": {
   "display_name": "Python [conda env:.conda-seguranca]",
   "language": "python",
   "name": "conda-env-.conda-seguranca-py"
  },
  "language_info": {
   "codemirror_mode": {
    "name": "ipython",
    "version": 3
   },
   "file_extension": ".py",
   "mimetype": "text/x-python",
   "name": "python",
   "nbconvert_exporter": "python",
   "pygments_lexer": "ipython3",
   "version": "3.7.5"
  }
 },
 "nbformat": 4,
 "nbformat_minor": 2
}
